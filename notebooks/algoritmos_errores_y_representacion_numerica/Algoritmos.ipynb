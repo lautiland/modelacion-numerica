{
 "cells": [
  {
   "cell_type": "markdown",
   "metadata": {
    "slideshow": {
     "slide_type": "slide"
    }
   },
   "source": [
    "![Curso Schwarz-Sosa-Suriano](http://www.fi.uba.ar/sites/default/files/logo.png)\n",
    "# <center> ANÁLISIS NUMÉRICO I - MODELACIÓN NUMÉRICA - MÉTODOS MATEMÁTICOS Y NUMÉRICOS\n",
    "\n",
    "## <center> LOS ALGORITMOS Y LA REPRESENTACIÓN NUMÉRICA"
   ]
  },
  {
   "cell_type": "markdown",
   "metadata": {
    "slideshow": {
     "slide_type": "subslide"
    }
   },
   "source": [
    "   Supongamos que tenemos que calcular los valores $y_n$ definidos por la siguiente expresión:\n",
    "\n",
    "$$y_n=\\int_0^1{\\frac{x^n}{x+b}}\\:\\mathrm d x.$$"
   ]
  },
  {
   "cell_type": "markdown",
   "metadata": {
    "slideshow": {
     "slide_type": "subslide"
    }
   },
   "source": [
    "   Es fácil notar que obtener el valor de $y$ para $n=0$, es decir, $y_0$, es muy sencillo, pues:\n",
    "\n",
    "$$y_0=\\int_0^1{\\frac{x^0}{x+b}}\\:\\mathrm d x=\\int_0^1{\\frac{1}{x+b}}\\:\\mathrm d x=\\left.\\ln(x+b) \\right|_0^1=\\ln(1+b)-\\ln(b)=\\ln\\left(1+\\frac{1}{b} \\right)$$"
   ]
  },
  {
   "cell_type": "markdown",
   "metadata": {
    "slideshow": {
     "slide_type": "subslide"
    }
   },
   "source": [
    "   Obtener valores de $y_n$ con $n\\geq1$ requiere que calculemos las integrales. Hay dos maneras de hacerlo: nos ayudamos con una tabla de integrales o con un programa de procesamiento simbólico, o utilizamos algún programa que calcule las integrales definidas.\n",
    "   \n",
    "   Para este ejemplo, resolveremos cada valor $y_j$ con ayuda de un programa que cuenta con un procesador simbólico. Hay varios programas con esta facilidad. En este caso, el lenguaje Python nos ayudan para obtener estos resultados. (A tener en cuenta: no siempre los programas hacen lo que aseguran hacer.)\n",
    "   \n",
    "Por eso, importamos el procesador simbólico, <b>Sympy</b>, y uno de los programas con algoritmos numéricos de Python, <b>Numpy</b>, que facilita la función $\\ln(x)$. (En Numpy, $\\ln(x)$ es $\\log(x)$)."
   ]
  },
  {
   "cell_type": "code",
   "execution_count": 1,
   "metadata": {
    "slideshow": {
     "slide_type": "subslide"
    }
   },
   "outputs": [],
   "source": [
    "import sympy as sy #Importamos Sympy.\n",
    "import numpy as np #Importamos Numpy."
   ]
  },
  {
   "cell_type": "markdown",
   "metadata": {
    "slideshow": {
     "slide_type": "slide"
    }
   },
   "source": [
    "  Definimos una función, que llamaremos Algo1, que ejecuta la integral «simbólica» para obtener un conjunto de valores $y_j$ con $j\\in(0,n)$."
   ]
  },
  {
   "cell_type": "code",
   "execution_count": 2,
   "metadata": {
    "slideshow": {
     "slide_type": "subslide"
    }
   },
   "outputs": [],
   "source": [
    "def Algo1(b,n):\n",
    "    x=sy.symbols('x')\n",
    "    y=np.zeros(n+1)\n",
    "    #y[0]=np.log(1+1/b)\n",
    "    for j in range(0,n+1):\n",
    "        y[j]=sy.integrate(x**j/(x+b),(x,0,1))\n",
    "    for j in range (0,n):\n",
    "        print(\"Para n =\",j,\"la integral es:\",y[j])\n",
    "    print(\"El valor de la integral para n=\",n,\"es\",y[n],\".\")    "
   ]
  },
  {
   "cell_type": "markdown",
   "metadata": {
    "slideshow": {
     "slide_type": "subslide"
    }
   },
   "source": [
    "Comprobemos si el algoritmo para calcular el valor de un $y_j$ cualquiera está correcto. Calculemos el valor de $y_0$ con $b=10$."
   ]
  },
  {
   "cell_type": "code",
   "execution_count": 3,
   "metadata": {
    "slideshow": {
     "slide_type": "subslide"
    }
   },
   "outputs": [
    {
     "name": "stdout",
     "output_type": "stream",
     "text": [
      "El valor de la integral para n= 0 es 0.09531017980432487 .\n"
     ]
    }
   ],
   "source": [
    "Algo1(10,0)"
   ]
  },
  {
   "cell_type": "markdown",
   "metadata": {
    "slideshow": {
     "slide_type": "slide"
    }
   },
   "source": [
    "Por lo que vimos antes, calcular $y_0$ es muy sencillo:\n",
    "\n",
    "$$y_0=\\ln\\left(1+\\frac{1}{b}\\right).$$\n",
    "\n",
    "Calculemos este valor usando la función $\\log(x)$ de Numpy. Tomemos $b=1$ y $n=0$."
   ]
  },
  {
   "cell_type": "code",
   "execution_count": 4,
   "metadata": {
    "slideshow": {
     "slide_type": "subslide"
    }
   },
   "outputs": [
    {
     "data": {
      "text/plain": [
       "np.float64(0.09531017980432493)"
      ]
     },
     "execution_count": 4,
     "metadata": {},
     "output_type": "execute_result"
    }
   ],
   "source": [
    "np.log(1+1/10)"
   ]
  },
  {
   "cell_type": "markdown",
   "metadata": {
    "slideshow": {
     "slide_type": "subslide"
    }
   },
   "source": [
    "Podemos notar que el resultado es muy similar, pero hay una pequeña diferencia en los últimos dos decimales."
   ]
  },
  {
   "cell_type": "markdown",
   "metadata": {
    "slideshow": {
     "slide_type": "slide"
    }
   },
   "source": [
    "Nos interesa saber si estamos haciendo los desarrollos en forma correcta. En consecuencia, calcularemos la integral definida mediante un método numérico muy conocido, la Cuadratura de Gauss-Legendre, método que analizaremos más adelante en el curso.\n",
    "\n",
    "Creamos para ello una nueva función o algoritmo, que llamamos Algo2."
   ]
  },
  {
   "cell_type": "code",
   "execution_count": 5,
   "metadata": {
    "slideshow": {
     "slide_type": "subslide"
    }
   },
   "outputs": [],
   "source": [
    "def Algo2(b,n):\n",
    "    x1=(1-0.8611363116)*0.5\n",
    "    x2=(1-0.3399810436)*0.5\n",
    "    x3=(1+0.3399810436)*0.5\n",
    "    x4=(1+0.8611363116)*0.5\n",
    "    c1=0.3478548451*0.5\n",
    "    c2=0.6521451549*0.5\n",
    "    c3=c2\n",
    "    c4=c1\n",
    "    y=np.zeros(n+1)\n",
    "    #y[0]=np.log(1+1/b)\n",
    "    for j in range(0,n+1):\n",
    "        y[j]=c1*x1**j/(x1+b)+c2*x2**j/(x2+b)+c3*x3**j/(x3+b)+c4*x4**j/(x4+b)\n",
    "    for j in range(0,n):\n",
    "        print(\"Para n =\",j,\"la integral es:\",y[j])\n",
    "    print(\"El valor de la integral para n=\",n,\"es\",y[n],\".\")   "
   ]
  },
  {
   "cell_type": "markdown",
   "metadata": {
    "slideshow": {
     "slide_type": "slide"
    }
   },
   "source": [
    "Calculemos con este algoritmo el valor de $y_0$."
   ]
  },
  {
   "cell_type": "code",
   "execution_count": 6,
   "metadata": {
    "slideshow": {
     "slide_type": "subslide"
    }
   },
   "outputs": [
    {
     "name": "stdout",
     "output_type": "stream",
     "text": [
      "El valor de la integral para n= 0 es 0.09531017980430732 .\n"
     ]
    }
   ],
   "source": [
    "Algo2(10,0)"
   ]
  },
  {
   "cell_type": "markdown",
   "metadata": {
    "slideshow": {
     "slide_type": "subslide"
    }
   },
   "source": [
    "Si comparamos con los valores anteriores, queda en evidencia que el resultado obtenido mediante el método numérico no es «igual» que el obtenido con la primitiva, y también difiere del resultado «simbólico» mostrado por Sympy. Podríamos decir que estamos haciendo las cosas bien. "
   ]
  },
  {
   "cell_type": "markdown",
   "metadata": {},
   "source": [
    "Si recordamos el valor anterior:"
   ]
  },
  {
   "cell_type": "code",
   "execution_count": 7,
   "metadata": {},
   "outputs": [
    {
     "data": {
      "text/plain": [
       "np.float64(0.09531017980432493)"
      ]
     },
     "execution_count": 7,
     "metadata": {},
     "output_type": "execute_result"
    }
   ],
   "source": [
    "np.log(1.1)"
   ]
  },
  {
   "cell_type": "markdown",
   "metadata": {
    "slideshow": {
     "slide_type": "slide"
    }
   },
   "source": [
    "Como nuestro objetivo es la aplicación de métodos numéricos, vamos a desarrollar otro a partir de la expresión simbólica; un modelo numérico iterativo para obtener los valores de un $y_n$ cualquiera. Si tenemos que\n",
    "\n",
    "$$y_n=\\int_0^1{\\frac{x^n}{x+b}}\\:\\mathrm d x\\quad \\text{y}\\quad y_{n-1}=\\int_0^1{\\frac{x^{n-1}}{x+b}}\\:\\mathrm d x$$\n",
    "\n",
    "podemos definir lo siguiente:\n",
    "\n",
    "$$y_n+b\\cdot y_{n-1}=\\int_0^1{\\frac{x^n+b \\cdot x^{n-1}}{x+b}}\\:\\mathrm d x=\\int_0^1{\\frac{x+b}{x+b}\\cdot x^{n-1}}\\:\\mathrm d x =\\int_0^1x^{n-1}\\:\\mathrm d x=\\left.\\frac{1}{n}\\cdot x^n\\right|_0^1=\\frac{1}{n},$$\n",
    "\n",
    "y entonces nos queda:\n",
    "\n",
    "$$y_n=\\frac{1}{n}-b\\cdot y_{n-1},$$\n",
    "\n",
    "un algoritmo iterativo que nos facilita obtener un $y_n$ a partir de conocer el $y_{n-1}$. Para poder empezar a iterar, primero debemos calcular el valor inicial, $y_0$:\n",
    "\n",
    "$$y_0=\\ln\\left(1+\\frac{1}{b} \\right),$$\n",
    "\n",
    "que ya habíamos calculado. Como en muchos modelos numéricos, necesitamos un valor inicial para ejecutar nuestro proceso iterativo. Nuestro nuevo algoritmo los llamamos Algo3."
   ]
  },
  {
   "cell_type": "code",
   "execution_count": 8,
   "metadata": {
    "slideshow": {
     "slide_type": "subslide"
    }
   },
   "outputs": [],
   "source": [
    "def Algo3(b,n):\n",
    "    y=np.zeros(n+1)\n",
    "    y[0]=0.0953101798\n",
    "    for j in range(1,n+1):\n",
    "        y[j]=1/j-b*y[j-1]\n",
    "    for j in range(0,n):\n",
    "        print(\"Para n =\",j,\"la integral es:\",y[j])\n",
    "    print(\"El valor de la integral para n=\",n,\"es\",y[n],\".\") "
   ]
  },
  {
   "cell_type": "markdown",
   "metadata": {
    "slideshow": {
     "slide_type": "slide"
    }
   },
   "source": [
    "Nuevamente, verifiquemos que nuestro nuevo algoritmo está correcto y calculemos el valor para $y_0$:"
   ]
  },
  {
   "cell_type": "code",
   "execution_count": 9,
   "metadata": {
    "slideshow": {
     "slide_type": "subslide"
    }
   },
   "outputs": [
    {
     "name": "stdout",
     "output_type": "stream",
     "text": [
      "El valor de la integral para n= 0 es 0.0953101798 .\n"
     ]
    }
   ],
   "source": [
    "Algo3(10,0)"
   ]
  },
  {
   "cell_type": "markdown",
   "metadata": {
    "slideshow": {
     "slide_type": "subslide"
    }
   },
   "source": [
    "Una vez más, si comparamos con los resultados anteriores, el resultado obtenido es similar o igual.\n",
    "\n",
    "Ahora calculemos varios valores para distintos $y_j$. Para verificar los resultados, particularmente de Algo3, los algoritmos mostrarán los valores previos."
   ]
  },
  {
   "cell_type": "code",
   "execution_count": 10,
   "metadata": {
    "slideshow": {
     "slide_type": "subslide"
    }
   },
   "outputs": [
    {
     "name": "stdout",
     "output_type": "stream",
     "text": [
      "Para n = 0 la integral es: 0.09531017980432487\n",
      "Para n = 1 la integral es: 0.0468982019567514\n",
      "Para n = 2 la integral es: 0.031017980432486006\n",
      "Para n = 3 la integral es: 0.02315352900847329\n",
      "Para n = 4 la integral es: 0.018464709915267108\n",
      "Para n = 5 la integral es: 0.015352900847328939\n",
      "Para n = 6 la integral es: 0.013137658193377286\n",
      "Para n = 7 la integral es: 0.011480560923370003\n",
      "El valor de la integral para n= 8 es 0.010194390766299974 .\n"
     ]
    }
   ],
   "source": [
    "Algo1(10,8)"
   ]
  },
  {
   "cell_type": "code",
   "execution_count": 11,
   "metadata": {
    "slideshow": {
     "slide_type": "subslide"
    }
   },
   "outputs": [
    {
     "name": "stdout",
     "output_type": "stream",
     "text": [
      "Para n = 0 la integral es: 0.09531017980430732\n",
      "Para n = 1 la integral es: 0.046898201956926816\n",
      "Para n = 2 la integral es: 0.03101798043073193\n",
      "Para n = 3 la integral es: 0.023153529022722434\n",
      "Para n = 4 la integral es: 0.01846470976783822\n",
      "Para n = 5 la integral es: 0.015352902315851727\n",
      "Para n = 6 la integral es: 0.013137643501963201\n",
      "Para n = 7 la integral es: 0.011480707831175762\n",
      "El valor de la integral para n= 8 es 0.010192921681960935 .\n"
     ]
    }
   ],
   "source": [
    "Algo2(10,8)"
   ]
  },
  {
   "cell_type": "code",
   "execution_count": 12,
   "metadata": {
    "slideshow": {
     "slide_type": "subslide"
    }
   },
   "outputs": [
    {
     "name": "stdout",
     "output_type": "stream",
     "text": [
      "Para n = 0 la integral es: 0.0953101798\n",
      "Para n = 1 la integral es: 0.046898201999999944\n",
      "Para n = 2 la integral es: 0.031017980000000556\n",
      "Para n = 3 la integral es: 0.023153533333327758\n",
      "Para n = 4 la integral es: 0.018464666666722418\n",
      "Para n = 5 la integral es: 0.015353333332775831\n",
      "Para n = 6 la integral es: 0.013133333338908343\n",
      "Para n = 7 la integral es: 0.01152380946805942\n",
      "El valor de la integral para n= 8 es 0.009761905319405795 .\n"
     ]
    }
   ],
   "source": [
    "Algo3(10,8)"
   ]
  },
  {
   "cell_type": "markdown",
   "metadata": {
    "slideshow": {
     "slide_type": "slide"
    }
   },
   "source": [
    "Todos nos entregan resultados parecidos. Como una forma de establecer cuál de todos los algoritmos es el que mejor aproxima los resultados que estamos buscando, representemos gráficamente las funciones a integrar.\n",
    "\n",
    "Para ello vamos a importar el graficador MatPlotLib:"
   ]
  },
  {
   "cell_type": "code",
   "execution_count": 13,
   "metadata": {},
   "outputs": [],
   "source": [
    "import matplotlib.pyplot as plt"
   ]
  },
  {
   "cell_type": "markdown",
   "metadata": {
    "slideshow": {
     "slide_type": "subslide"
    }
   },
   "source": [
    "Definamos ahora las funciones de las integrales que determinan a los $y_n$."
   ]
  },
  {
   "cell_type": "code",
   "execution_count": 14,
   "metadata": {
    "slideshow": {
     "slide_type": "subslide"
    }
   },
   "outputs": [],
   "source": [
    "def f(b,n,x): #Define una función con tres variables: «b», «n» y «x». Esta última es la variable libre.\n",
    "    return x**n/(x+b)"
   ]
  },
  {
   "cell_type": "markdown",
   "metadata": {
    "slideshow": {
     "slide_type": "subslide"
    }
   },
   "source": [
    "Probemos una función cualquiera en $x=1$:"
   ]
  },
  {
   "cell_type": "code",
   "execution_count": 15,
   "metadata": {
    "slideshow": {
     "slide_type": "subslide"
    }
   },
   "outputs": [
    {
     "data": {
      "text/plain": [
       "0.09090909090909091"
      ]
     },
     "execution_count": 15,
     "metadata": {},
     "output_type": "execute_result"
    }
   ],
   "source": [
    "f(10,1,1)"
   ]
  },
  {
   "cell_type": "markdown",
   "metadata": {
    "slideshow": {
     "slide_type": "subslide"
    }
   },
   "source": [
    "Probemos otro caso, ahora con $n=5$."
   ]
  },
  {
   "cell_type": "code",
   "execution_count": null,
   "metadata": {
    "slideshow": {
     "slide_type": "subslide"
    }
   },
   "outputs": [],
   "source": [
    "f(10,5,1)"
   ]
  },
  {
   "cell_type": "markdown",
   "metadata": {},
   "source": [
    "Probemos el caso $n=10$:"
   ]
  },
  {
   "cell_type": "code",
   "execution_count": null,
   "metadata": {},
   "outputs": [],
   "source": [
    "f(10,10,1)"
   ]
  },
  {
   "cell_type": "markdown",
   "metadata": {
    "slideshow": {
     "slide_type": "slide"
    }
   },
   "source": [
    "Puesto que cada función es\n",
    "\n",
    "$$f_j(x)=\\frac{x^j}{x+b},$$\n",
    "\n",
    "cuando $x=1$ tenemos que $$f_j(1)=\\frac{1^j}{1+b}=\\frac{1}{1+b}.$$\n",
    "\n",
    "Si $b=10$, entonces siempre tendremos que:\n",
    "\n",
    "$$f_j(1)=\\frac{1}{11}=0{,}0909090909...$$"
   ]
  },
  {
   "cell_type": "markdown",
   "metadata": {
    "slideshow": {
     "slide_type": "subslide"
    }
   },
   "source": [
    "Como ya tenemos la función definida, podemos representemos varias de las funciones que forman el integrando, es decir, fijamos $b=10$ y tomamos varios valores de $n$."
   ]
  },
  {
   "cell_type": "code",
   "execution_count": null,
   "metadata": {
    "slideshow": {
     "slide_type": "subslide"
    }
   },
   "outputs": [],
   "source": [
    "plt.figure(figsize=(13,9))\n",
    "x = np.arange(0, 1.01, 0.01)\n",
    "plt.plot(x,f(10,1,x),label='f_1(x)') #Función con n=1.\n",
    "plt.plot(x,f(10,3,x),'k--', label='f_3(x)') #Función con n=3.\n",
    "plt.plot(x,f(10,5,x),'r--',label='f_5(x)') #Función con n=5.\n",
    "plt.plot(x,f(10,10,x),'g--',label='f_10(x)') #Función con n=10.\n",
    "plt.plot(x,f(10,15,x),'c--',label='f_15(x)') #Función con n=15.\n",
    "plt.plot(x,f(10,20,x),'m--',label='f_20(x)') #Función con n=20.\n",
    "plt.title('Funciones f_n(x)')\n",
    "plt.xlabel('x')\n",
    "plt.ylabel('f(x)')\n",
    "plt.legend(loc=0)\n",
    "plt.show()"
   ]
  },
  {
   "cell_type": "markdown",
   "metadata": {},
   "source": [
    "Veamos qué pasa si aumentamos el valor de $n$ en nuestros algoritmos.\n",
    "\n",
    "Primero ejecutemos el algoritmo 1."
   ]
  },
  {
   "cell_type": "code",
   "execution_count": null,
   "metadata": {},
   "outputs": [],
   "source": [
    "Algo1(10,9)"
   ]
  },
  {
   "cell_type": "markdown",
   "metadata": {},
   "source": [
    "Ahora ejecutemos el algoritmo 2."
   ]
  },
  {
   "cell_type": "code",
   "execution_count": null,
   "metadata": {},
   "outputs": [],
   "source": [
    "Algo2(10,9)"
   ]
  },
  {
   "cell_type": "markdown",
   "metadata": {},
   "source": [
    "Finalmente, el algoritmo 3."
   ]
  },
  {
   "cell_type": "code",
   "execution_count": null,
   "metadata": {},
   "outputs": [],
   "source": [
    "Algo3(10,9)"
   ]
  },
  {
   "cell_type": "markdown",
   "metadata": {},
   "source": [
    "Si comparamos resultados, podemos ver que el valor para $y_{20}$ del algoritmo 3 difiere notablemente respecto del valor de $y_{20}$ calculado por los otros dos algoritmos. También que el valor $y_{20}$ obtenido mediante el algoritmo 2 es levemente diferente al $y_{20}$ obtenido con el algoritmo 1."
   ]
  },
  {
   "cell_type": "code",
   "execution_count": null,
   "metadata": {},
   "outputs": [],
   "source": []
  }
 ],
 "metadata": {
  "celltoolbar": "Slideshow",
  "kernelspec": {
   "display_name": "Python 3",
   "language": "python",
   "name": "python3"
  },
  "language_info": {
   "codemirror_mode": {
    "name": "ipython",
    "version": 3
   },
   "file_extension": ".py",
   "mimetype": "text/x-python",
   "name": "python",
   "nbconvert_exporter": "python",
   "pygments_lexer": "ipython3",
   "version": "3.13.3"
  }
 },
 "nbformat": 4,
 "nbformat_minor": 4
}
